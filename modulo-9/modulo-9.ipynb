{
 "cells": [
  {
   "cell_type": "markdown",
   "metadata": {},
   "source": [
    "# Módulo 9 - Funciones\n",
    "\n",
    "## Ejercicio 1: Trabajar con argumentos en funciones\n"
   ]
  },
  {
   "cell_type": "code",
   "execution_count": 4,
   "metadata": {},
   "outputs": [
    {
     "name": "stdout",
     "output_type": "stream",
     "text": [
      "Fuel report:\n",
      "    Total Average: 72.66666666666667%\n",
      "    Tank 1: 48%\n",
      "    Tank 2: 80%\n",
      "    Tank 3: 90%\n",
      "    \n"
     ]
    }
   ],
   "source": [
    "def generate_report(tank1, tank2, tank3):\n",
    "    \n",
    "\n",
    "    return f\"\"\"Fuel report:\n",
    "    Total Average: {fuel_average([tank1, tank2, tank3])}%\n",
    "    Tank 1: {tank1}%\n",
    "    Tank 2: {tank2}%\n",
    "    Tank 3: {tank3}%\n",
    "    \"\"\"\n",
    "\n",
    "\n",
    "def fuel_average(tank_values : list):\n",
    "    return sum(tank_values) / len(tank_values)\n",
    "\n",
    "\n",
    "print(generate_report(48, 80, 90))\n"
   ]
  },
  {
   "cell_type": "markdown",
   "metadata": {},
   "source": [
    "# Ejercicio 2: Trabajo con argumentos de palabra clave"
   ]
  },
  {
   "cell_type": "code",
   "execution_count": 10,
   "metadata": {},
   "outputs": [
    {
     "name": "stdout",
     "output_type": "stream",
     "text": [
      "\n",
      "    Mission to Moon\n",
      "    Total travel time: 34 minutes\n",
      "    Total fuel left: 500000\n",
      "    main tank --> 300000 gallons left\n",
      "    external tank --> 200000 gallons left\n",
      "    \n"
     ]
    }
   ],
   "source": [
    "# Nueva función\n",
    "\n",
    "\n",
    "def mission_report(destination, *minutes, **fuel_reservoirs):\n",
    "    main_report = f\"\"\"\n",
    "    Mission to {destination}\n",
    "    Total travel time: { sum(minutes) } minutes\n",
    "    Total fuel left: { sum (fuel_reservoirs.values())}\n",
    "    \"\"\"\n",
    "\n",
    "    for tank_name, gallons in fuel_reservoirs.items():\n",
    "        main_report += f\"{ tank_name } tank --> { gallons } gallons left\\n    \"\n",
    "\n",
    "    return main_report\n",
    "\n",
    "print(mission_report(\"Moon\", 8, 11, 15, main = 300000, external = 200000))"
   ]
  }
 ],
 "metadata": {
  "interpreter": {
   "hash": "916dbcbb3f70747c44a77c7bcd40155683ae19c65e1c03b4aa3499c5328201f1"
  },
  "kernelspec": {
   "display_name": "Python 3.8.10 64-bit",
   "language": "python",
   "name": "python3"
  },
  "language_info": {
   "codemirror_mode": {
    "name": "ipython",
    "version": 3
   },
   "file_extension": ".py",
   "mimetype": "text/x-python",
   "name": "python",
   "nbconvert_exporter": "python",
   "pygments_lexer": "ipython3",
   "version": "3.8.10"
  },
  "orig_nbformat": 4
 },
 "nbformat": 4,
 "nbformat_minor": 2
}
