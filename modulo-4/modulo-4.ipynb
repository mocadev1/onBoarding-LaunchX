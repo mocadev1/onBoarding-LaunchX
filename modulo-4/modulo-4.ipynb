{
 "cells": [
  {
   "cell_type": "markdown",
   "metadata": {},
   "source": [
    "# Modulo 4\n",
    "\n",
    "## Ejercico 1: Transformar cadenas"
   ]
  },
  {
   "cell_type": "code",
   "execution_count": 3,
   "metadata": {},
   "outputs": [
    {
     "name": "stdout",
     "output_type": "stream",
     "text": [
      " \n",
      "On average, the Moon moves 4cm away from the Earth every year\n",
      " The highest daylight temperature of the Moon is 127 Celsius\n"
     ]
    }
   ],
   "source": [
    "text = \"\"\"Interesting facts about the Moon. The Moon is Earth's only satellite. There are several interesting facts about the Moon and how it affects life here on Earth. \n",
    "On average, the Moon moves 4cm away from the Earth every year. This yearly drift is not significant enough to cause immediate effects on Earth. The highest daylight temperature of the Moon is 127 C.\"\"\"\n",
    "\n",
    "sentences = text.split('.')\n",
    "\n",
    "key_words = [\"average\", \"temperature\", \"distance\"]\n",
    "\n",
    "for sentence in sentences:\n",
    "    for key_word in key_words:\n",
    "        if key_word in sentence:\n",
    "            print(sentence.replace(' C', ' Celsius'))\n",
    "            break"
   ]
  },
  {
   "cell_type": "markdown",
   "metadata": {},
   "source": [
    "## Ejercicio 2: Formateando Cadenas\n"
   ]
  },
  {
   "cell_type": "code",
   "execution_count": 9,
   "metadata": {},
   "outputs": [
    {
     "name": "stdout",
     "output_type": "stream",
     "text": [
      "\n",
      "Gravity Facts About Moon\n",
      "--------------------------------------------------------------------------------\n",
      "Planet Name: Earth\n",
      "Gravity on Moon: 1.6199999999999999 m/s2\n",
      "\n",
      "\n",
      "Gravity Facts About Moon\n",
      "--------------------------------------------------------------------------------\n",
      "Planet Name: Earth\n",
      "Gravity on Moon: 1.6199999999999999 m/s2\n",
      "\n",
      "\n",
      "Gravity Facts About: Ganimedes\n",
      "------------------------------------------------------------------\n",
      "Planet Nmae: Mars\n",
      "Gravity on Ganimedes: 1.4300000000000002 m/s2\n",
      "\n"
     ]
    }
   ],
   "source": [
    "# Datos con los que vas a trabajar\n",
    "name = \"Moon\"\n",
    "gravity = 0.00162 # in kms\n",
    "planet = \"Earth\"\n",
    "\n",
    "# Creamos el título\n",
    "title = f'Gravity Facts about {name}'\n",
    "\n",
    "# Creamos la plantilla\n",
    "template = f\"\"\"\n",
    "{title.title()}\n",
    "{'-'*80}\n",
    "Planet Name: {planet}\n",
    "Gravity on {name}: {gravity * 1000} m/s2\n",
    "\"\"\"\n",
    "\n",
    "print(template)\n",
    "\n",
    "# New data\n",
    "planet = \"Mars\"\n",
    "gravity = 0.00143\n",
    "name = \"Ganimedes\"\n",
    "\n",
    "# Testing the template, should be WRONG (not updated)\n",
    "print(template)\n",
    "\n",
    "new_template = \"\"\"\n",
    "Gravity Facts About: {name}\n",
    "------------------------------------------------------------------\n",
    "Planet Nmae: {planet}\n",
    "Gravity on {name}: {gravity} m/s2\n",
    "\"\"\"\n",
    "\n",
    "print(new_template.format(name=name, planet=planet, gravity=gravity*1000))"
   ]
  }
 ],
 "metadata": {
  "interpreter": {
   "hash": "916dbcbb3f70747c44a77c7bcd40155683ae19c65e1c03b4aa3499c5328201f1"
  },
  "kernelspec": {
   "display_name": "Python 3.8.10 64-bit",
   "language": "python",
   "name": "python3"
  },
  "language_info": {
   "codemirror_mode": {
    "name": "ipython",
    "version": 3
   },
   "file_extension": ".py",
   "mimetype": "text/x-python",
   "name": "python",
   "nbconvert_exporter": "python",
   "pygments_lexer": "ipython3",
   "version": "3.8.10"
  },
  "orig_nbformat": 4
 },
 "nbformat": 4,
 "nbformat_minor": 2
}
